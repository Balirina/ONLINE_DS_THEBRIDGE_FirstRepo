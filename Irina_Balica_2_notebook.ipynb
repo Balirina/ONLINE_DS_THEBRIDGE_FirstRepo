{
  "cells": [
    {
      "cell_type": "markdown",
      "metadata": {
        "id": "PyiK-ZuOiHL3"
      },
      "source": [
        "![TheBridge_logo_RGB_color.jpg](attachment:TheBridge_logo_RGB_color.jpg)"
      ]
    },
    {
      "cell_type": "markdown",
      "metadata": {
        "id": "bH_aDyHxiHL5"
      },
      "source": [
        "![imagen](./img/ejercicios.png)"
      ]
    },
    {
      "cell_type": "markdown",
      "metadata": {
        "id": "iyrRhPhWiHL6"
      },
      "source": [
        "## EJERCICIOS PYTHON BASICO 3:\n",
        "## Operaciones matemáticas, comparación y booleanas"
      ]
    },
    {
      "cell_type": "markdown",
      "metadata": {
        "id": "6QVPaKX9iHL6"
      },
      "source": [
        "Completa los siguiente ejercicios, la solución completa a los mismos se publicarán en el repo del curso a lo largo del sprint. En algunos ejercicios se muestra la solución final, para que puedas comprobar que lo has hecho bien, pero lo importante es el código que generes. ¡Vaaamos, a ello...!"
      ]
    },
    {
      "cell_type": "markdown",
      "metadata": {
        "id": "WhB9_RSdiHL6"
      },
      "source": [
        "![ejercicio.png](./img/ejercicio.png)\n",
        "\n",
        "\n",
        "## Ejercicio 1\n",
        "Tenemos las siguientes variables:\n",
        "\n",
        "```Python\n",
        "A = 4\n",
        "B = \"Text\"\n",
        "C = 4.1\n",
        "```\n",
        "\n",
        "Comprueba:\n",
        "1. Si A y B son equivalentes\n",
        "2. Si A y C NO son equivalentes\n",
        "3. Si A es mayor que C\n",
        "4. Si C es menor o igual que A\n",
        "5. Si B NO es equivalente a C"
      ]
    },
    {
      "cell_type": "code",
      "execution_count": 10,
      "metadata": {
        "colab": {
          "base_uri": "https://localhost:8080/"
        },
        "id": "eDbSPJtkiHL6",
        "outputId": "01cb0fd0-f6af-413b-8617-270d36e89d1c"
      },
      "outputs": [
        {
          "output_type": "execute_result",
          "data": {
            "text/plain": [
              "True"
            ]
          },
          "metadata": {},
          "execution_count": 10
        }
      ],
      "source": [
        "A = 4\n",
        "B = \"Text\"\n",
        "C = 4.1\n",
        "\n",
        "A == B\n",
        "A != C\n",
        "A > C\n",
        "C <= A\n",
        "B != C"
      ]
    },
    {
      "cell_type": "markdown",
      "metadata": {
        "id": "2yldZmE9iHL7"
      },
      "source": [
        "![ejercicio.png](./img/ejercicio.png)\n",
        "\n",
        "## Ejercicio 2\n",
        "Crea un programa donde se recojan dos inputs del usuario, y el output del programa sea si esos inputs son iguales o no"
      ]
    },
    {
      "cell_type": "code",
      "execution_count": 13,
      "metadata": {
        "colab": {
          "base_uri": "https://localhost:8080/"
        },
        "id": "SXc60DF5iHL7",
        "outputId": "e2ea82b9-31a2-4d93-e457-bc72ff31c2ab"
      },
      "outputs": [
        {
          "output_type": "stream",
          "name": "stdout",
          "text": [
            "Introduce una variable 22\n",
            "Introduce otra variable 22.0\n",
            "Las variable introducidas NO son iguales\n"
          ]
        }
      ],
      "source": [
        "valor1 = input(\"Introduce una variable \")\n",
        "valor2 = input(\"Introduce otra variable \")\n",
        "if valor1 == valor2:\n",
        "  print(\"Las variables introducidas son iguales\")\n",
        "else:\n",
        "  print(\"Las variable introducidas NO son iguales\")\n"
      ]
    },
    {
      "cell_type": "markdown",
      "metadata": {
        "id": "gItNQi9miHL7"
      },
      "source": [
        "![ejercicio.png](./img/ejercicio.png)\n",
        "\n",
        "## Ejercicio 3\n",
        "Mismo programa que en 2, pero en esta ocasión tienen que ser tres inputs y dos salidas. Una de las salidas que nos indique si todos son iguales, y la otra si al menos dos inputs sí que lo son"
      ]
    },
    {
      "cell_type": "code",
      "execution_count": 20,
      "metadata": {
        "colab": {
          "base_uri": "https://localhost:8080/"
        },
        "id": "2kcJZJE8iHL8",
        "outputId": "df8e42f6-36df-4ea6-f6f2-96d48eea186d"
      },
      "outputs": [
        {
          "output_type": "stream",
          "name": "stdout",
          "text": [
            "In¡ntroduce la variable nr. 1 11\n",
            "In¡ntroduce la variable nr. 2 11\n",
            "In¡ntroduce la variable nr. 3 11\n",
            "Enhorabuena. Todos los valores introducidos son iguales\n"
          ]
        }
      ],
      "source": [
        "var_1 = input(\"In¡ntroduce la variable nr. 1 \")\n",
        "var_2 = input(\"In¡ntroduce la variable nr. 2 \")\n",
        "var_3= input(\"In¡ntroduce la variable nr. 3 \")\n",
        "\n",
        "if var_1 == var_2 and var_1 == var_3:\n",
        "  print(\"Enhorabuena. Todos los valores introducidos son iguales\")\n",
        "else:\n",
        "  if (var_1== var_2) or (var_2 == var_3) or (var_1 == var_3):\n",
        "    print(\"Has introducido dos valores iguales\")\n",
        "  else:\n",
        "    print(\"Ninguno de los valores es igual al otro\")\n",
        ""
      ]
    },
    {
      "cell_type": "markdown",
      "metadata": {
        "id": "wcwlSz6AiHL8"
      },
      "source": [
        "![ejercicio.png](./img/ejercicio.png)\n",
        "\n",
        "## Ejercicio 4\n",
        "Razona sin ejecutar código el output que obtendremos de las siguientes sentencias\n",
        "1. True and True and False\n",
        "2. not ((True or False) and (True or False))\n",
        "3. (False or False or False or True) and False\n",
        "4. not False and True and not True"
      ]
    },
    {
      "cell_type": "markdown",
      "metadata": {
        "id": "fVDXIoIsiHL8"
      },
      "source": [
        "1 - False  \n",
        "2 - False  \n",
        "3 - False  \n",
        "4 - False"
      ]
    }
  ],
  "metadata": {
    "kernelspec": {
      "display_name": "Curso_Online_DATA",
      "language": "python",
      "name": "python3"
    },
    "language_info": {
      "codemirror_mode": {
        "name": "ipython",
        "version": 3
      },
      "file_extension": ".py",
      "mimetype": "text/x-python",
      "name": "python",
      "nbconvert_exporter": "python",
      "pygments_lexer": "ipython3",
      "version": "3.11.5"
    },
    "orig_nbformat": 4,
    "colab": {
      "provenance": []
    }
  },
  "nbformat": 4,
  "nbformat_minor": 0
}