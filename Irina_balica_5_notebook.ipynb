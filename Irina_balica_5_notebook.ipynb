{
  "cells": [
    {
      "cell_type": "markdown",
      "metadata": {
        "id": "9l3HMgm6RWxF"
      },
      "source": [
        "![TheBridge_logo_RGB_color.jpg](attachment:TheBridge_logo_RGB_color.jpg)"
      ]
    },
    {
      "cell_type": "markdown",
      "metadata": {
        "id": "RGg9iWpoRWxG"
      },
      "source": [
        "![ejercicios.png](attachment:ejercicios.png)"
      ]
    },
    {
      "cell_type": "markdown",
      "metadata": {
        "id": "AyOlWS2nRWxH"
      },
      "source": [
        "## PRACTICA OBLIGATORIA: COLECCIONES Y FUNCIONES"
      ]
    },
    {
      "cell_type": "markdown",
      "metadata": {
        "id": "6UOgb0KVRWxH"
      },
      "source": [
        "* La práctica obligatoria de esta unidad consiste varios ejercicios de programación libre a completar sobre Colecciones y Funciones. Descarga este notebook en tu ordenador y trabaja en local.  \n",
        "* Recuerda que debes subirla a tu repositorio personal antes de la sesión en vivo para que puntúe adecuadamente y puedas participar en dicha sesión.  \n",
        "* Recuerda también que no es necesario que esté perfecta, sólo es necesario que se vea el esfuerzo.\n",
        "* Esta práctica se resolverá en la sesión en vivo correspondiente y la solución se publicará en el repo del curso."
      ]
    },
    {
      "cell_type": "markdown",
      "metadata": {
        "id": "j3yu-tEjRWxH"
      },
      "source": [
        "### Contenidos"
      ]
    },
    {
      "cell_type": "markdown",
      "metadata": {
        "id": "kO-fLH39RWxH"
      },
      "source": [
        "## Ejercicio 1\n",
        "Eleva todos los elementos de la lista al cuadrado\n",
        "> ```ejer_2 = [1,2,3,4,5]```"
      ]
    },
    {
      "cell_type": "code",
      "execution_count": null,
      "metadata": {
        "id": "ks5l3yi7RWxH",
        "outputId": "de3f9046-406a-45e9-e167-8e08676d7608",
        "colab": {
          "base_uri": "https://localhost:8080/"
        }
      },
      "outputs": [
        {
          "output_type": "stream",
          "name": "stdout",
          "text": [
            "[1, 4, 9, 16, 25]\n"
          ]
        }
      ],
      "source": [
        "numbers = [1,2,3,4,5]\n",
        "new_numbers = []\n",
        "for i in numbers:\n",
        "  new_numbers.append(i**2)\n",
        "\n",
        "print(new_numbers)"
      ]
    },
    {
      "cell_type": "markdown",
      "metadata": {
        "id": "kI_Xr5oFRWxI"
      },
      "source": [
        "## Ejercicio 2\n",
        "Haz un programa que detecte todos los duplicados de un elemento en una lista:\n",
        "* Utiliza una variable duplicado para asignarle el valor del elemento del que queremos encontrar todos sus duplicados.\n",
        "* El programa debe devolver todos los índices de los elementos duplicados.\n",
        "* Aplícalo para encontrar los duplicados de \"un\", \"es\" y \"binario\" de:  \n",
        "\n",
        ">```ejer_3 = [\"Un\", \"árbol\", \"binario\", \"es\", \"una\", \"estructura\", \"de\", \"un\", \"tipo\", \"particular\", \"a\", \"veces\", \"no\", \"es\", \"ni\", \"binario\"]```\n"
      ]
    },
    {
      "cell_type": "code",
      "execution_count": null,
      "metadata": {
        "id": "cLY9WB7YRWxI",
        "outputId": "ca1f147e-0f4a-4dbf-9ac9-8cc162be9194",
        "colab": {
          "base_uri": "https://localhost:8080/"
        }
      },
      "outputs": [
        {
          "output_type": "stream",
          "name": "stdout",
          "text": [
            "Los indices de la palabra ' un ' son  [7]\n",
            "Los indices de la palabra ' es ' son  [3, 13]\n",
            "Los indices de la palabra ' binario ' son  [2, 15]\n"
          ]
        }
      ],
      "source": [
        "lista = [\"Un\", \"árbol\", \"binario\", \"es\", \"una\", \"estructura\", \"de\", \"un\", \"tipo\", \"particular\", \"a\", \"veces\", \"no\", \"es\", \"ni\", \"binario\"]\n",
        "def busca_duplicados(duplicado):\n",
        "  indices =[]\n",
        "  i = 0\n",
        "  for palabra in lista:\n",
        "    if(palabra == duplicado):\n",
        "      indices.append(i)\n",
        "    i+=1\n",
        "  print(\"Los indices de la palabra '\", duplicado, \"' son \",indices)\n",
        "\n",
        "lista_duplicados = [\"un\", \"es\" ,\"binario\"]\n",
        "for var in lista_duplicados:\n",
        "  busca_duplicados(var)\n"
      ]
    },
    {
      "cell_type": "markdown",
      "metadata": {
        "id": "3WrBd5QaRWxI"
      },
      "source": [
        "## Ejercicio 3\n",
        "1. ¿Cuántas veces se repite el 3 en la siguiente tupla?\n",
        "2. Crea una tupla nueva con los elementos desde la posicion 5 a la 10.\n",
        "3. ¿Cuántos elementos tiene la tupla `ejer_3`?\n",
        "> ```ejer_9 = (3, 20, 3, 47, 19, 3, 29, 45, 67, 78, 90, 3, 3, 5, 2, 4, 7, 9, 4, 2, 4, 3, 3, 4, 6, 7)```"
      ]
    },
    {
      "cell_type": "code",
      "execution_count": null,
      "metadata": {
        "id": "bkv_R5LYRWxI",
        "outputId": "34573cdc-3392-4af0-8044-3cf00143cee9",
        "colab": {
          "base_uri": "https://localhost:8080/"
        }
      },
      "outputs": [
        {
          "output_type": "stream",
          "name": "stdout",
          "text": [
            "El numero 3 se ha repetido  7 veces\n",
            "(3, 29, 45, 67, 78, 90)\n",
            "La tupla del ejercicio anterios tiene  16 elementos\n"
          ]
        }
      ],
      "source": [
        "tupla = (3, 20, 3, 47, 19, 3, 29, 45, 67, 78, 90, 3, 3, 5, 2, 4, 7, 9, 4, 2, 4, 3, 3, 4, 6, 7)\n",
        "repeticiones = 0\n",
        "\n",
        "for i in tupla:\n",
        "  if(i == 3):\n",
        "    repeticiones+=1\n",
        "print(\"El numero 3 se ha repetido \", repeticiones, \"veces\")\n",
        "\n",
        "nueva_tupla = tupla[5:11]\n",
        "print(nueva_tupla)\n",
        "\n",
        "print(\"La tupla del ejercicio anterios tiene \",len(lista), \"elementos\")\n"
      ]
    },
    {
      "cell_type": "markdown",
      "metadata": {
        "id": "6g8Y54AeRWxI"
      },
      "source": [
        "## Ejercicio 4\n",
        "Comprueba si el numero 60 esta en la tupla del ejercicio 3"
      ]
    },
    {
      "cell_type": "code",
      "execution_count": null,
      "metadata": {
        "id": "F8VTEZonRWxI",
        "outputId": "c7a8be86-2d8f-41e1-edda-6f6173e60084",
        "colab": {
          "base_uri": "https://localhost:8080/"
        }
      },
      "outputs": [
        {
          "output_type": "stream",
          "name": "stdout",
          "text": [
            "No. El numero  60  no existe en la lista\n"
          ]
        }
      ],
      "source": [
        "num = 60\n",
        "if num in tupla:\n",
        "  print(\"Si. El numero\", num, \" existe en la lista\")\n",
        "else:\n",
        "  print(\"No. El numero \", num, \" no existe en la lista\")"
      ]
    },
    {
      "cell_type": "markdown",
      "metadata": {
        "id": "y0fg-ZA6RWxI"
      },
      "source": [
        "## Ejercicio 5\n",
        "1. Convierte la tupla del ejercicio 3 en una lista\n",
        "2. Convierte la tupla del ejercicio 3 en un set\n",
        "3. Convierte la tupla del ejercicio 3 en un diccionario. Usa también los indices"
      ]
    },
    {
      "cell_type": "code",
      "execution_count": null,
      "metadata": {
        "id": "_O5hXr01RWxI",
        "colab": {
          "base_uri": "https://localhost:8080/"
        },
        "outputId": "c29e9d11-4838-469c-c012-54db707622be"
      },
      "outputs": [
        {
          "output_type": "stream",
          "name": "stdout",
          "text": [
            "[3, 20, 3, 47, 19, 3, 29, 45, 67, 78, 90, 3, 3, 5, 2, 4, 7, 9, 4, 2, 4, 3, 3, 4, 6, 7]\n",
            "{2, 3, 67, 5, 4, 7, 6, 9, 45, 78, 47, 19, 20, 90, 29}\n",
            "{1: 3, 2: 20, 3: 3, 4: 47, 5: 19, 6: 3, 7: 29, 8: 45, 9: 67, 10: 78, 11: 90, 12: 3, 13: 3, 14: 5, 15: 2, 16: 4, 17: 7, 18: 9, 19: 4, 20: 2, 21: 4, 22: 3, 23: 3, 24: 4, 25: 6, 26: 7}\n"
          ]
        }
      ],
      "source": [
        "lista_ej3 = list(tupla)\n",
        "print(lista_ej3)\n",
        "\n",
        "set_ej3 = set(tupla)\n",
        "print(set_ej3)\n",
        "\n",
        "dict_ej3 = {}\n",
        "indice = 1\n",
        "for i in tupla:\n",
        "  dict_ej3[indice] = i\n",
        "  indice += 1\n",
        "print(dict_ej3)\n"
      ]
    },
    {
      "cell_type": "markdown",
      "metadata": {
        "id": "eOdWWbxvRWxJ"
      },
      "source": [
        "## Ejercicio 6\n",
        "Multiplica todos los valores del diccionario\n",
        "> ```ejer_6 = {1: 11, 2: 22, 3: 33, 4: 44, 5: 55}```"
      ]
    },
    {
      "cell_type": "code",
      "execution_count": null,
      "metadata": {
        "id": "KcuByovKRWxJ",
        "colab": {
          "base_uri": "https://localhost:8080/"
        },
        "outputId": "b47ac19d-5f92-4eea-e20e-4d4885629474"
      },
      "outputs": [
        {
          "output_type": "stream",
          "name": "stdout",
          "text": [
            "{1: 11, 2: 44, 3: 99, 4: 176, 5: 275}\n"
          ]
        }
      ],
      "source": [
        "#La condicion no es muy clara, creo que lo he hecho bien\n",
        "ejer_6 = {1: 11, 2: 22, 3: 33, 4: 44, 5: 55}\n",
        "\n",
        "for i in ejer_6:\n",
        "  ejer_6[i] = i* ejer_6[i]\n",
        "print(ejer_6)"
      ]
    },
    {
      "cell_type": "markdown",
      "metadata": {
        "id": "W7TUSaKRRWxJ"
      },
      "source": [
        "## Ejercicio 7\n",
        "\n",
        "1. Crea un diccionario que describa un libro, con los siguientes campos o claves: \"titulo\",\"autor\",\"idioma original\",\"año de publicación\".\n",
        "2. Crea un a lista, llamada librería.\n",
        "3. Añade cuatro libros a tu elección a la librería."
      ]
    },
    {
      "cell_type": "code",
      "execution_count": 4,
      "metadata": {
        "vscode": {
          "languageId": "plaintext"
        },
        "id": "d-IMRvxRRWxJ",
        "colab": {
          "base_uri": "https://localhost:8080/"
        },
        "outputId": "f642f438-a241-4c8d-cd8b-ec571796fefb"
      },
      "outputs": [
        {
          "output_type": "stream",
          "name": "stdout",
          "text": [
            "La librerie de los libros es:\n",
            " -------------------------------------------------- \n",
            " [{'titulo': 'El último secreto', 'autor': 'Dan Brown', 'idioma original': 'Ingles', 'año de publicación': '2025'}, {'titulo': 'La emperatriz', 'autor': 'Kristin Cast', 'idioma original': 'Ingles', 'año de publicación': '2023'}, {'titulo': 'Victoria', 'autor': 'Paloma Sánchez', 'idioma original': 'Castellano', 'año de publicación': '2021'}, {'titulo': 'Señoras bien', 'autor': 'Pilar Eyre', 'idioma original': 'Castellano', 'año de publicación': '2024'}]\n"
          ]
        }
      ],
      "source": [
        "claves = [\"titulo\", \"autor\", \"idioma original\", \"año de publicación\"]\n",
        "dict_libro = dict.fromkeys(claves)\n",
        "libreria = []\n",
        "\n",
        "def add_book(title, author, language, publish_year):\n",
        "  #for i in dict_libro.keys():\n",
        "    dict_libro[\"titulo\"] = title\n",
        "    dict_libro[\"autor\"] = author\n",
        "    dict_libro[\"idioma original\"] = language\n",
        "    dict_libro[\"año de publicación\"] = publish_year\n",
        "    #print(dict_libro)\n",
        "    libreria.append(dict_libro.copy())\n",
        "\n",
        "\n",
        "\n",
        "add_book(\"El último secreto\", \"Dan Brown\", \"Ingles\", \"2025\")\n",
        "add_book(\"La emperatriz\", \"Kristin Cast\", \"Ingles\", \"2023\")\n",
        "add_book(\"Victoria\", \"Paloma Sánchez\", \"Castellano\", \"2021\")\n",
        "add_book(\"Señoras bien\", \"Pilar Eyre\", \"Castellano\", \"2024\")\n",
        "print(\"La librerie de los libros es:\\n\", \"-\"*50, \"\\n\",libreria)\n"
      ]
    },
    {
      "cell_type": "markdown",
      "metadata": {
        "id": "glMoedjYRWxJ"
      },
      "source": [
        "## Ejercicio 8\n",
        "Modifica los valores del idioma de todos los libros del ejercicio anterior para que sea \"esperanto\"\n"
      ]
    },
    {
      "cell_type": "code",
      "execution_count": 5,
      "metadata": {
        "id": "veNdC-uwRWxJ",
        "colab": {
          "base_uri": "https://localhost:8080/"
        },
        "outputId": "376164df-76b6-4c74-c002-3166658b5c07"
      },
      "outputs": [
        {
          "output_type": "stream",
          "name": "stdout",
          "text": [
            "[{'titulo': 'El último secreto', 'autor': 'Dan Brown', 'idioma original': 'esperanto', 'año de publicación': '2025'}, {'titulo': 'La emperatriz', 'autor': 'Kristin Cast', 'idioma original': 'esperanto', 'año de publicación': '2023'}, {'titulo': 'Victoria', 'autor': 'Paloma Sánchez', 'idioma original': 'esperanto', 'año de publicación': '2021'}, {'titulo': 'Señoras bien', 'autor': 'Pilar Eyre', 'idioma original': 'esperanto', 'año de publicación': '2024'}]\n"
          ]
        }
      ],
      "source": [
        "for i in range(len(libreria)):\n",
        "  libreria[i][\"idioma original\"] = \"esperanto\"\n",
        "\n",
        "print(libreria)"
      ]
    },
    {
      "cell_type": "markdown",
      "metadata": {
        "id": "DRCJG04KRWxJ"
      },
      "source": [
        "## Ejercicio 9\n",
        "1. Escribe un programa que dada una variable titulo busque los libros que hay en la librería con ese título. Si no se encuentra debe devolver el mensaje `Ese no lo tengo, ¿mola?`\n",
        "2. Pruena que el programa con uno de tus libros y con otro que no contenga tu librería."
      ]
    },
    {
      "cell_type": "code",
      "execution_count": 12,
      "metadata": {
        "id": "eWHdJi9BRWxJ",
        "colab": {
          "base_uri": "https://localhost:8080/"
        },
        "outputId": "077c5df9-b921-494b-8bf5-9a59ea51b9b7"
      },
      "outputs": [
        {
          "output_type": "stream",
          "name": "stdout",
          "text": [
            "Libro encontrado\n",
            "{'titulo': 'El último secreto', 'autor': 'Dan Brown', 'idioma original': 'esperanto', 'año de publicación': '2025'}\n",
            "--------------------------------------------------\n",
            "Ese no lo tengo, ¿mola?\n"
          ]
        }
      ],
      "source": [
        "def find_book(title):\n",
        "  for i in range(len(libreria)):\n",
        "    if libreria[i][\"titulo\"] == title:\n",
        "      print(\"Libro encontrado\")\n",
        "      print(libreria[i])\n",
        "      return\n",
        "    else:\n",
        "      print(\"Ese no lo tengo, ¿mola?\")\n",
        "      return\n",
        "\n",
        "find_book(\"El último secreto\")\n",
        "print(\"-\"*50)\n",
        "find_book(\"Unicornio\")"
      ]
    },
    {
      "cell_type": "markdown",
      "metadata": {
        "id": "17YOpYuFRWxJ"
      },
      "source": [
        "## Ejercicio 10\n",
        "Convierte el programa del ejercicio 2 en una función al que se le pase el valor a buscar como un argumento posicional"
      ]
    },
    {
      "cell_type": "code",
      "execution_count": 23,
      "metadata": {
        "id": "xbj0LgvnRWxJ",
        "colab": {
          "base_uri": "https://localhost:8080/"
        },
        "outputId": "e3b37d01-79d0-40d4-f783-2886a5e8531f"
      },
      "outputs": [
        {
          "output_type": "stream",
          "name": "stdout",
          "text": [
            "El elemento en la posicion 1 solo aparece una vez\n",
            "4 veces he encontrado el elemento en la posicion 3\n"
          ]
        }
      ],
      "source": [
        "lista = [\"Un\", \"árbol\", \"binario\", \"es\", \"una\", \"estructura\", \"de\", \"un\", \"tipo\", \"particular\", \"a\", \"veces\", \"no\", \"es\", \"ni\", \"binario\", \"es\", \"es\"]\n",
        "\n",
        "def busca_duplicados(position):\n",
        "  duplicado = lista[position]\n",
        "  indices =[]\n",
        "  i = 0\n",
        "  for palabra in lista:\n",
        "    if(palabra == duplicado):\n",
        "      indices.append(i)\n",
        "    i+=1\n",
        "  if len(indices) >1:\n",
        "    print(len(indices), \"veces he encontrado el elemento en la posicion\", position)\n",
        "  else:\n",
        "    print(\"El elemento en la posicion\", position, \"solo aparece una vez\")\n",
        "\n",
        "busca_duplicados(1)\n",
        "busca_duplicados(3)"
      ]
    },
    {
      "cell_type": "markdown",
      "metadata": {
        "id": "xZ-sWJxPRWxJ"
      },
      "source": [
        "## Ejercicio 11\n",
        "Convierte el programa del ejercicio 9 en una función al que se le pasen como argumentos la librería, posicional, y el título, argumento keyword con valor \"ninguno\", por defecto."
      ]
    },
    {
      "cell_type": "code",
      "execution_count": 25,
      "metadata": {
        "id": "4-JrsMdNRWxK",
        "colab": {
          "base_uri": "https://localhost:8080/"
        },
        "outputId": "87eb6d03-f868-4c1d-aad2-4b63f47137bc"
      },
      "outputs": [
        {
          "output_type": "stream",
          "name": "stdout",
          "text": [
            "Ese no lo tengo, ¿mola?\n",
            "--------------------------------------------------\n"
          ]
        }
      ],
      "source": [
        "#NO entiendo muy bien la condicion :(\n",
        "\n",
        "def find_book(libreria, position, title, *args):\n",
        "  for i in range(len(libreria)):\n",
        "    if libreria[i][\"titulo\"] == title:\n",
        "      print(\"Libro encontrado\")\n",
        "      print(libreria[i])\n",
        "      return\n",
        "    else:\n",
        "      print(\"Ese no lo tengo, ¿mola?\")\n",
        "      return\n",
        "\n",
        "find_book([{'titulo': 'El último secreto', 'autor': 'Dan Brown', 'idioma original': 'esperanto', 'año de publicación': '2025'}], 1,\"El ultimo secreto\",)\n",
        "print(\"-\"*50)"
      ]
    },
    {
      "cell_type": "markdown",
      "metadata": {
        "id": "FtJir95QRWxK"
      },
      "source": [
        "## Ejercicio 12\n",
        "Solicitar al usuario que ingrese su dirección email. Imprimir un mensaje indicando si la dirección es válida o no, valiéndose de una función para decidirlo. Una dirección se considerará válida si contiene el símbolo \"@\"."
      ]
    },
    {
      "cell_type": "code",
      "execution_count": 16,
      "metadata": {
        "id": "sk852IZ8RWxK",
        "colab": {
          "base_uri": "https://localhost:8080/"
        },
        "outputId": "83fd3cc4-ea57-4c10-d002-fc571e5167ad"
      },
      "outputs": [
        {
          "output_type": "stream",
          "name": "stdout",
          "text": [
            "Introduce tu dirección de emailsdasd@sadasd\n",
            "Muy bine. Email introducido correctamente.\n"
          ]
        }
      ],
      "source": [
        "def check_email(mail):\n",
        "  if mail.find(\"@\") != -1:\n",
        "    print(\"Muy bine. Email introducido correctamente.\")\n",
        "  else:\n",
        "    print(\"Error. Email invalido.\")\n",
        "\n",
        "\n",
        "mail = input(\"Introduce tu dirección de email\")\n",
        "check_email(mail)\n"
      ]
    },
    {
      "cell_type": "markdown",
      "metadata": {
        "id": "Kw1MWBwBRWxK"
      },
      "source": [
        "## Ejercicio 13\n",
        "Escribe una función que compruebe si un DNI es válido, devolviendo `True` en caso afirmativo.  \n",
        "En primer lugar, el DNI debe tener entre 7 y 8 dígitos numéricos.  \n",
        "Para saber si la letra del DNI es correcta puedes utilizar el siguiente fragmento de código:\n",
        ">```Python\n",
        ">DNI= 55555555\n",
        ">palabra='TRWAGMYFPDXBNJZSQVHLCKE'\n",
        ">print('La letra del DNI es: ', palabra[DNI%23])\n",
        ">````\n"
      ]
    },
    {
      "cell_type": "code",
      "execution_count": 40,
      "metadata": {
        "id": "F5Z9rSHqRWxK",
        "colab": {
          "base_uri": "https://localhost:8080/"
        },
        "outputId": "9a14ad29-ca0c-401e-ee86-bf7075774c89"
      },
      "outputs": [
        {
          "name": "stdout",
          "output_type": "stream",
          "text": [
            "Introduce tu DNI6020081S\n"
          ]
        },
        {
          "output_type": "execute_result",
          "data": {
            "text/plain": [
              "True"
            ]
          },
          "metadata": {},
          "execution_count": 40
        }
      ],
      "source": [
        "error = \"DNI invalido\"\n",
        "palabra='TRWAGMYFPDXBNJZSQVHLCKE'\n",
        "\n",
        "\n",
        "def check_dni(dni):\n",
        "  if len(dni)-1 <7 or len(dni)-1>8:\n",
        "    return False\n",
        "  else:\n",
        "    letra = dni[-1].upper()\n",
        "    digitos = int(dni[:len(dni)-1])\n",
        "    if letra == palabra[digitos%23]:\n",
        "      return True\n",
        "    else:\n",
        "      return False\n",
        "\n",
        "new_dni = input(\"Introduce tu DNI\")\n",
        "check_dni(new_dni)\n"
      ]
    }
  ],
  "metadata": {
    "language_info": {
      "name": "python"
    },
    "orig_nbformat": 4,
    "colab": {
      "provenance": []
    },
    "kernelspec": {
      "name": "python3",
      "display_name": "Python 3"
    }
  },
  "nbformat": 4,
  "nbformat_minor": 0
}