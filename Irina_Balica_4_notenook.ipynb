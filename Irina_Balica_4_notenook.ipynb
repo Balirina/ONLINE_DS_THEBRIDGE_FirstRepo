{
  "cells": [
    {
      "cell_type": "markdown",
      "metadata": {
        "id": "BNCAebJANPxq"
      },
      "source": [
        "![TheBridge_logo_RGB_color.jpg](attachment:TheBridge_logo_RGB_color.jpg)"
      ]
    },
    {
      "cell_type": "markdown",
      "metadata": {
        "id": "A9eDZvZaNPxs"
      },
      "source": [
        "![imagen](./img/ejercicios.png)"
      ]
    },
    {
      "cell_type": "markdown",
      "metadata": {
        "id": "59zPhBxXNPxs"
      },
      "source": [
        "## PRACTICA OBLIGATORIA: PYTHON"
      ]
    },
    {
      "cell_type": "markdown",
      "metadata": {
        "id": "mv2kb1GMNPxs"
      },
      "source": [
        "* La práctica obligatoria de esta unidad consiste en dos ejercicios de programación libre a completar.   \n",
        "* Recuerda que debes subirla a tu repositorio personal antes de la sesión en vivo para que puntúe adecuadamente.  \n",
        "* Recuerda también que no es necesario que esté perfecta, sólo es necesario que se vea el esfuerzo.\n",
        "* Esta práctica se resolverá en la sesión en vivo correspondiente y la solución se publicará en el repo del curso."
      ]
    },
    {
      "cell_type": "markdown",
      "metadata": {
        "id": "Kl9JzST2NPxt"
      },
      "source": [
        "![ejercicio.png](./img/ejercicio.png)\n",
        "## PARTE I\n",
        "\n",
        "En este ejercicio debes simular un chatbot al que le haremos pedidos de pizzas.\n",
        "\n",
        "1. El chatbot tiene que saludar con un: \"Buenas tardes, bienvenido al servicio de pedido online, el precio de nuestra pizzas es de 8,95 para la familiar o de 9,90 para la mediana ¿Cuántas pizzas  familiares desea?\"\n",
        "2. El ususario tiene que introducir un número de pizzas en una variable llamada 'pizz_familiar'\n",
        "3. El chatbot debe responder: \"Estupendo, ¿cuántas pizzas medianas desea?\" y guardar el número de pizzas medianas en otra variable 'pizz_mediana'\n",
        "4. Además debe responder del chatbot: \"Estupendo, se están preparando 'pizz' pizzas familiares y 'pizz_mediana' pizzas medianas. Digame su dirección\"\n",
        "5. El ususario tiene que introducir una direccion en formato String en otra variable llamada 'direcc'\n",
        "6. El programa debe calcular el monto total\n",
        "7. Respuesta final del chatbot: \"Le mandaremos las '(número total de pizzas)' pizzas a la dirección 'direcc'. Serán <precio total a pagar en euros>. Muchas gracias por su pedido.\"\n",
        "         \n"
      ]
    },
    {
      "cell_type": "code",
      "execution_count": null,
      "metadata": {
        "id": "qkKibyt-NPxt",
        "outputId": "4cfcb163-3ce8-495b-efe2-16f3d72682ed",
        "colab": {
          "base_uri": "https://localhost:8080/"
        }
      },
      "outputs": [
        {
          "output_type": "stream",
          "name": "stdout",
          "text": [
            "Buenas tardes, bienvenido al servicio de pedido online, el precio de nuestra pizzas es de 8,95 para la familiar o de 9,90 para la mediana \n",
            "¿Cuántas pizzas familiares desea?2\n",
            "Estupendo, ¿cuántas pizzas medianas desea?3\n",
            "Estupendo, se están preparando  2  pizzas familiares y  3  pizzas medianas.\n",
            " Digame su dirección gtgr\n",
            "Le mandaremos las  5 pizzas a la dirección gtgr . Serán  47.6 euros. Muchas gracias por su pedido.\n"
          ]
        }
      ],
      "source": [
        "pizz_familiar = input(\"Buenas tardes, bienvenido al servicio de pedido online, el precio de nuestra pizzas es de 8,95 para la familiar o de 9,90 para la mediana \\n¿Cuántas pizzas familiares desea?\")\n",
        "pizz_mediana = input(\"Estupendo, ¿cuántas pizzas medianas desea?\")\n",
        "print(\"Estupendo, se están preparando \", pizz_familiar, \" pizzas familiares y \", pizz_mediana, \" pizzas medianas.\")\n",
        "direcc = input(\" Digame su dirección \")\n",
        "pizz_familiar = int(pizz_familiar)\n",
        "pizz_mediana = int(pizz_mediana)\n",
        "total_pizz = pizz_familiar + pizz_mediana\n",
        "importe = pizz_familiar * 8.95 + pizz_mediana * 9.90\n",
        "print(\"Le mandaremos las \",total_pizz, \"pizzas a la dirección\", direcc, \". Serán \", importe, \"euros. Muchas gracias por su pedido.\")"
      ]
    },
    {
      "cell_type": "markdown",
      "metadata": {
        "id": "f0oqoGDGNPxt"
      },
      "source": [
        "![ejercicio.png](./img/ejercicio.png)\n",
        "## Parte II\n",
        "\n",
        "Crea un programa que realice las siguientes acciones:\n",
        "\n",
        "1. Solicite al usuario que introduzca 3 números enteros separados por comas (por ejemplo: 1,2,3).\n",
        "2. Convierta esa entrada en una lista de números enteros.\n",
        "3. Utilizando funciones built-in, determine el número máximo, el número mínimo y la suma total de los números introducidos.\n",
        "4. Determine la verdad o falsedad de la siguiente afirmación: \"El número máximo menos el número mínimo es igual a la suma total dividida por 5\".\n",
        "5. Muestre los resultados utilizando print."
      ]
    },
    {
      "cell_type": "code",
      "execution_count": null,
      "metadata": {
        "id": "rAlpWiQ9NPxt",
        "outputId": "9fe844f9-d066-41aa-9beb-ebadcd24a3c0",
        "colab": {
          "base_uri": "https://localhost:8080/"
        }
      },
      "outputs": [
        {
          "output_type": "stream",
          "name": "stdout",
          "text": [
            "Introduce 3 números enteros separados por comas2,3,4\n",
            "[2, 3, 4]\n",
            "El minimo es 2\n",
            "El máximo es 4\n",
            "El total de los numeros es 9\n",
            "Falso. El número máximo menos el número mínimo NO es igual a la suma total dividida por 5\n"
          ]
        }
      ],
      "source": [
        "lista = input(\"Introduce 3 números enteros separados por comas\")\n",
        "lista = lista.split(\",\")\n",
        "\n",
        "new_lista = []\n",
        "for i in lista:\n",
        "  new_lista.append(int(i))\n",
        "print(new_lista)\n",
        "\n",
        "print(\"El minimo es\", min(new_lista))\n",
        "print(\"El máximo es\", max(new_lista))\n",
        "print(\"El total de los numeros es\", sum(new_lista))\n",
        "if(max(new_lista)-min(new_lista) == sum(new_lista)/5):\n",
        "  print(\"Verdadero.El número máximo menos el número mínimo es igual a la suma total dividida por 5\")\n",
        "else:\n",
        "  print(\"Falso. El número máximo menos el número mínimo NO es igual a la suma total dividida por 5\")"
      ]
    }
  ],
  "metadata": {
    "kernelspec": {
      "display_name": "Curso_Online_DATA",
      "language": "python",
      "name": "python3"
    },
    "language_info": {
      "codemirror_mode": {
        "name": "ipython",
        "version": 3
      },
      "file_extension": ".py",
      "mimetype": "text/x-python",
      "name": "python",
      "nbconvert_exporter": "python",
      "pygments_lexer": "ipython3",
      "version": "3.11.5"
    },
    "orig_nbformat": 4,
    "colab": {
      "provenance": []
    }
  },
  "nbformat": 4,
  "nbformat_minor": 0
}