{
  "cells": [
    {
      "cell_type": "markdown",
      "metadata": {
        "id": "GB2K42EgK9q5"
      },
      "source": [
        "![TheBridge_logo_RGB_color.jpg](attachment:TheBridge_logo_RGB_color.jpg)"
      ]
    },
    {
      "cell_type": "markdown",
      "metadata": {
        "id": "GnwVlO37K9q6"
      },
      "source": [
        "![imagen](./img/ejercicios.png)"
      ]
    },
    {
      "cell_type": "markdown",
      "metadata": {
        "id": "_9pTa0PXK9q6"
      },
      "source": [
        "## EJERCICIOS PYTHON BASICO 2:\n",
        "## Tipos y conversión de tipos"
      ]
    },
    {
      "cell_type": "markdown",
      "metadata": {
        "id": "tYmV-veoK9q6"
      },
      "source": [
        "Completa los siguiente ejercicios, la solución a los mismos se publicarán en el repo del curso a lo largo del sprint"
      ]
    },
    {
      "cell_type": "markdown",
      "metadata": {
        "id": "YAdFbIOXK9q7"
      },
      "source": [
        "![ejercicio.png](./img/ejercicio.png)\n",
        "\n",
        "## Ejercicio 1\n",
        "\n",
        "1. Crea dos variables numericas: un `int` y un `float`\n",
        "2. Comprueba sus tipos\n",
        "3. Sumalas en otra nueva\n",
        "4. ¿De qué tipo es la nueva variable?\n",
        "5. Elimina las dos primeras variables creadas"
      ]
    },
    {
      "cell_type": "code",
      "execution_count": null,
      "metadata": {
        "id": "8QZmuLOsK9q7",
        "colab": {
          "base_uri": "https://localhost:8080/"
        },
        "outputId": "a28fa23e-f753-4c37-8a78-268dc05dfef1"
      },
      "outputs": [
        {
          "output_type": "stream",
          "name": "stdout",
          "text": [
            "<class 'int'>\n",
            "<class 'float'>\n",
            "La suma de los numeros es: 34.4 , y es de tipo  <class 'float'>\n"
          ]
        }
      ],
      "source": [
        "var_int = 12\n",
        "var_float = 22.4\n",
        "print(type(var_int))\n",
        "print(type(var_float))\n",
        "\n",
        "suma = var_int + var_float\n",
        "print(\"La suma de los numeros es:\", suma, \", y es de tipo \", type(suma))\n",
        "\n",
        "del var_int\n",
        "del var_float"
      ]
    },
    {
      "cell_type": "markdown",
      "metadata": {
        "id": "f5xfpkpQK9q7"
      },
      "source": [
        "![ejercicio.png](./img/ejercicio.png)\n",
        "\n",
        "## Ejercicio 2\n",
        "Escribe un programa para pasar de grados a radianes. Hay que usar `input`. Recuerda que la conversión se realiza mediante\n",
        "\n",
        "radianes = grados*(pi/180)"
      ]
    },
    {
      "cell_type": "code",
      "execution_count": null,
      "metadata": {
        "id": "V50TUQMzK9q7",
        "colab": {
          "base_uri": "https://localhost:8080/"
        },
        "outputId": "53d56d93-4c58-4b95-99b0-ee45c0c47440"
      },
      "outputs": [
        {
          "output_type": "stream",
          "name": "stdout",
          "text": [
            "Introduce los grados125\n",
            "El valor de los grados introducidos en radianes es 2.181661564992912\n"
          ]
        }
      ],
      "source": [
        "import math\n",
        "#print(math.pi)\n",
        "grados = input(\"Introduce los grados \")\n",
        "radianes = int(grados)*(math.pi/180)\n",
        "print(\"El valor de los grados introducidos en radianes es\", radianes)"
      ]
    },
    {
      "cell_type": "markdown",
      "metadata": {
        "id": "zX3-p58CK9q7"
      },
      "source": [
        "![ejercicio.png](./img/ejercicio.png)\n",
        "\n",
        "## Ejercicio 3\n",
        "Escribe un programa que calcule el area de un paralelogramo (base x altura). También con `input`"
      ]
    },
    {
      "cell_type": "code",
      "execution_count": null,
      "metadata": {
        "id": "s2QfNiBAK9q7",
        "colab": {
          "base_uri": "https://localhost:8080/"
        },
        "outputId": "3b965e7b-e54c-4b93-dcd0-f8540cc5ed0b"
      },
      "outputs": [
        {
          "output_type": "stream",
          "name": "stdout",
          "text": [
            "Introduce la base del paralelogramo12\n",
            "INtroduce la altura6\n",
            "El area de tu paralelogramo es 72.0\n"
          ]
        }
      ],
      "source": [
        "base = input(\"Introduce la base del paralelogramo \")\n",
        "altura = input(\"Introduce la altura \")\n",
        "area = float(base)* float(altura)\n",
        "print(\"El area de tu paralelogramo es\", area)"
      ]
    },
    {
      "cell_type": "markdown",
      "metadata": {
        "id": "-6TBo_HvK9q8"
      },
      "source": [
        "![ejercicio.png](./img/ejercicio.png)\n",
        "\n",
        "## Ejercicio 4\n",
        "Escribe un programa que calcule el area de un paralelogramo (base x altura). También con `input`. En este caso debe ser capaz de admitir valores reales, con decimales, para base y altura en español. (PISTA: Recuerda que tendrás que hacer uso del método replace)"
      ]
    },
    {
      "cell_type": "code",
      "execution_count": null,
      "metadata": {
        "id": "uzUIa1JqK9q8",
        "colab": {
          "base_uri": "https://localhost:8080/"
        },
        "outputId": "f18949e3-009f-4d2b-f59d-b412b6b2da9b"
      },
      "outputs": [
        {
          "output_type": "stream",
          "name": "stdout",
          "text": [
            "Introduce la base de un paralelogramo56,6\n",
            "Introduce la altura76,8\n",
            "<class 'str'>\n",
            "El area del paralelogramo es  4346.88\n"
          ]
        }
      ],
      "source": [
        "base = input(\"Introduce la base de un paralelogramo \")\n",
        "altura = input(\"Introduce la altura \")\n",
        "base_float = base.replace(\",\", \".\")\n",
        "altura_float = altura.replace(\",\", \".\")\n",
        "print(type(base_float))\n",
        "area = float(base_float) * float(altura_float)\n",
        "print(\"El area del paralelogramo es \", area)"
      ]
    },
    {
      "cell_type": "markdown",
      "metadata": {
        "id": "5zKugi5iK9q8"
      },
      "source": [
        "![ejercicio.png](./img/ejercicio.png)\n",
        "\n",
        "## Ejercicio 5\n",
        "Complete el siguiente código para solicitar al usuario su nombre y su edad. Luego, calcule en qué año nació el usuario y muestre el resultado."
      ]
    },
    {
      "cell_type": "code",
      "execution_count": null,
      "metadata": {
        "id": "LISfTnRkK9q8",
        "colab": {
          "base_uri": "https://localhost:8080/"
        },
        "outputId": "95aba771-4890-4a76-ccd9-bfffe470f4d2"
      },
      "outputs": [
        {
          "output_type": "stream",
          "name": "stdout",
          "text": [
            "¿Cuál es tu nombre? Irina\n",
            "¿Cuál es tu edad? 30\n",
            "Irina, naciste en el año 1995.\n"
          ]
        }
      ],
      "source": [
        "nombre = input(\"¿Cuál es tu nombre? \")\n",
        "edad = int(input(\"¿Cuál es tu edad? \"))\n",
        "año_actual = 2025  # Puedes cambiarlo según el año en curso\n",
        "año_nacimiento = año_actual - edad\n",
        "\n",
        "print(f\"{nombre}, naciste en el año {año_nacimiento}.\")\n"
      ]
    }
  ],
  "metadata": {
    "kernelspec": {
      "display_name": "Curso_Online_DATA",
      "language": "python",
      "name": "python3"
    },
    "language_info": {
      "codemirror_mode": {
        "name": "ipython",
        "version": 3
      },
      "file_extension": ".py",
      "mimetype": "text/x-python",
      "name": "python",
      "nbconvert_exporter": "python",
      "pygments_lexer": "ipython3",
      "version": "3.11.5"
    },
    "orig_nbformat": 4,
    "colab": {
      "provenance": []
    }
  },
  "nbformat": 4,
  "nbformat_minor": 0
}