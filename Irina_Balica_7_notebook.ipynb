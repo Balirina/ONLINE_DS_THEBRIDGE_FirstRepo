{
  "cells": [
    {
      "cell_type": "markdown",
      "metadata": {
        "id": "vigJnuAMSU4x"
      },
      "source": [
        "![TheBridge_logo_RGB_color.jpg](attachment:TheBridge_logo_RGB_color.jpg)"
      ]
    },
    {
      "cell_type": "markdown",
      "metadata": {
        "id": "2xmnwM17SU4y"
      },
      "source": [
        "![ejercicios.png](attachment:ejercicios.png)"
      ]
    },
    {
      "cell_type": "markdown",
      "metadata": {
        "id": "liorA-1ZSU4y"
      },
      "source": [
        "# Ejercicios Clases y Objetos"
      ]
    },
    {
      "cell_type": "markdown",
      "metadata": {
        "id": "5xXUz5l9SU4z"
      },
      "source": [
        "## Ejercicio 1\n",
        "Somos una empresa que tiene varias tiendas de electrodomesticos. Necesitamos un programa para manejar las tiendas, ver las ventas que han tenido, cuántos empleados hay, etc... Para ello vamos a modelizar la tienda en una clase, que tendrá las siguientes características:\n",
        "* Nombre clase: \"Tienda\"\n",
        "* Atributos comunes:\n",
        "    * Tipo: \"Electrodomésticos\"\n",
        "    * Abierta: True\n",
        "* Atributos propios de cada tienda:\n",
        "    * Nombre - String\n",
        "    * Dirección - String\n",
        "    * Número de empleados - int\n",
        "    * Ventas ultimos 3 meses - Lista de 3 numeros\n",
        "* Método para calcular las ventas de todos los meses, que devuelva un numero con todas las ventas.\n",
        "* Método que calcula la media de ventas de los ultimos meses, por empleado\n",
        "* Método que devuelve en un string el nombre de la tienda, junto con su dirección.\n",
        "* Método que obtiene las ventas del último mes.\n",
        "* Método para dar una proyección de las ventas en caso de haber invertido X dinero en marketing en esa tienda. Siendo X el parámetro de entrada. Si X es menor de 1000, las ventas de los ultimos 3 meses hubiesen sido de (1.2 x ventas), si es mayor o igual de 1000, las ventas hubiesen sido de (1.5 x venta). El método reescribe el atributo de ventas en los últimos 3 meses, y además devuelve las ventas con el aumento.\n",
        "\n",
        "Se pide:\n",
        "1. Implementar la clase \"Tienda\"\n",
        "2. Crear tres tiendas con datos inventados\n",
        "3. Comprueba en al menos una de ellas, todo lo implementado en la clase tienda (sus atributos, media de ventas, ventas/empleado...)\n",
        "3. Calcular las ventas del último mes de todas las tiendas. Para ello usa el bucle `for`\n",
        "4. Imprime por pantalla los nombres de las tiendas cuya dirección lleve el string \"Avenida\"\n",
        "5. Seguro que ya has hecho este apartado... Documenta la clase :)"
      ]
    },
    {
      "cell_type": "code",
      "execution_count": null,
      "metadata": {
        "id": "5cLQcLxfSU4z",
        "outputId": "4427a48e-59d4-46b3-bfd5-5a4ad32bb4e0",
        "colab": {
          "base_uri": "https://localhost:8080/"
        }
      },
      "outputs": [
        {
          "output_type": "stream",
          "name": "stdout",
          "text": [
            "El nombre de la primera tienda es Zara\n",
            "La direccion de la primera tienda es avenida General Alava 22\n",
            "La primera tienda tiene 23 empleados\n",
            "La tienda  Zara hizo ventas de 85840 Euros en los ultimos 3 meses\n",
            "La media de las ventas de los ultimos 3 meses por empleado son 3732.17\n",
            "La tienda  Zara hizo ventas de 29670 Euros en el ultimo mes\n",
            "Si hubieramos invertido 1000 Euros las ventas eran asi:  [36000.0, 48255.0, 44505.0]\n",
            "Las ventas del ultimo mes de todas las tiendas es: 138825.0\n",
            "Zara\n"
          ]
        }
      ],
      "source": [
        "class Tienda:\n",
        "  tipo = \"Electrodomesticos\"\n",
        "  abierta = True\n",
        "\n",
        "  def __init__(self, nombre, direcc, empleados, ventas = []):\n",
        "    self.nombre = nombre\n",
        "    self.direccion = direcc\n",
        "    self.num_empleados = empleados\n",
        "    self.ventas = ventas\n",
        "\n",
        "  def calcularVentas(self):\n",
        "    return sum(self.ventas)\n",
        "\n",
        "  def mediaVentas(self):\n",
        "    return round(sum(self.ventas) / self.num_empleados, 2)\n",
        "\n",
        "  def nombreTienda(self):\n",
        "    print(\"La tienda se llama \",self.nombre,\" y se encuentra en \", self.direccion)\n",
        "\n",
        "  def ventasUltimoMes(self):\n",
        "    return self.ventas[-1]\n",
        "\n",
        "  def invertir(self, dinero):\n",
        "    new_ventas = []\n",
        "    if dinero < 1000:\n",
        "      for i in self.ventas:\n",
        "        new_ventas.append(i * 1.2)\n",
        "      self.ventas = new_ventas\n",
        "    elif dinero >= 1000:\n",
        "      for i in self.ventas:\n",
        "        new_ventas.append(i * 1.5)\n",
        "      self.ventas = new_ventas\n",
        "\n",
        "    return self.ventas\n",
        "\n",
        "\n",
        "tienda1 = Tienda(\"Zara\", \"avenida General Alava 22\", 23, [24000, 32170, 29670])\n",
        "tienda2 = Tienda(\"Aldi\", \"bulevard de Mariturri 45\", 8, [15000, 36000, 28900])\n",
        "tienda3 = Tienda(\"Juguettos\", \"calle Dato 8\", 5, [4300, 45320, 65420])\n",
        "\n",
        "all_tiendas = []\n",
        "all_tiendas.append(tienda1)\n",
        "all_tiendas.append(tienda2)\n",
        "all_tiendas.append(tienda3)\n",
        "\n",
        "print(\"El nombre de la primera tienda es\", tienda1.nombre)\n",
        "print(\"La direccion de la primera tienda es\", tienda1.direccion)\n",
        "print(\"La primera tienda tiene\", tienda1.num_empleados, \"empleados\")\n",
        "\n",
        "print(\"La tienda \", tienda1.nombre , \"hizo ventas de\", tienda1.calcularVentas(), \"Euros en los ultimos 3 meses\")\n",
        "print(\"La media de las ventas de los ultimos 3 meses por empleado son\", tienda1.mediaVentas())\n",
        "print(\"La tienda \", tienda1.nombre , \"hizo ventas de\", tienda1.ventasUltimoMes(), \"Euros en el ultimo mes\")\n",
        "print(\"Si hubieramos invertido 1000 Euros las ventas eran asi: \", tienda1.invertir(1000))\n",
        "\n",
        "ventas_ultimo_mes_todas = 0\n",
        "for tienda in all_tiendas:\n",
        "  ventas_ultimo_mes_todas += tienda.ventas[-1]\n",
        "print(\"Las ventas del ultimo mes de todas las tiendas es:\", ventas_ultimo_mes_todas)\n",
        "\n",
        "for tienda in all_tiendas:\n",
        "  #print(tienda.direccion)\n",
        "  if(tienda.direccion.find(\"avenida\") != -1):\n",
        "    print(tienda.nombre)\n"
      ]
    },
    {
      "cell_type": "markdown",
      "metadata": {
        "id": "WEBq7EpsSU40"
      },
      "source": [
        "## Ejercicio 2\n",
        "En este ejercicio vamos a implementar una clase *Perro* en Python. La clase tiene las siguientes características:\n",
        "* Cosas que sabemos seguro que tiene un perro\n",
        "    * Tiene 4 patas\n",
        "    * 2 orejas\n",
        "    * 2 ojos\n",
        "    * Una velocidad de 0. Por defecto, el perro está parado\n",
        "* Cuando se inicialice:\n",
        "    * El perro será de una determinada raza\n",
        "    * Por defecto tendrá pelo \"Marrón\", a no ser que se diga lo contrario.\n",
        "    * Por defecto no tendrá dueño, a no ser que se diga lo contrario.\n",
        "    \n",
        "* Dispondrá también de un método llamado andar, que tiene un argumento de entrada (aumento_velocidad). Este valor se le sumará a la velocidad que ya llevaba el perro.\n",
        "* Necesita otro método (parar), donde pondremos la velocidad a 0.\n",
        "* Otro método llamado \"ladrar\", que tendrá un argumento de entrada, y la salida será el siguiente string: \"GUAU!\" + el argumento de entrada.\n",
        "\n",
        "\n",
        "Se pide:\n",
        "* Implementa la clase *Perro*\n",
        "* Crea un objeto de tipo *Perro*, sin dueño\n",
        "* Comprueba que están bien todos sus atributos\n",
        "* Prueba que ande, y comprueba su velocidad\n",
        "* Páralo\n",
        "* Documenta la clase *Perro*"
      ]
    },
    {
      "cell_type": "code",
      "execution_count": null,
      "metadata": {
        "id": "DpEWvbwGSU40",
        "outputId": "c7eeca4c-7c3c-4b6c-c770-547d39f490bc",
        "colab": {
          "base_uri": "https://localhost:8080/"
        }
      },
      "outputs": [
        {
          "output_type": "stream",
          "name": "stdout",
          "text": [
            "Labrador\n",
            "Marron\n",
            "\n",
            "4\n",
            "El perro va con la velodidad  5\n",
            "El perro va con la velodidad  0\n",
            "El perro va con la velodidad  10\n"
          ]
        }
      ],
      "source": [
        "class Perro:\n",
        "  patas = 4\n",
        "  orejas = 2\n",
        "  ojos = 2\n",
        "  velocidad = 0\n",
        "\n",
        "  def __init__(self, raza, pelo = \"Marron\"):\n",
        "    self.raza = raza\n",
        "    self.pelo = pelo\n",
        "    self.duenio = \"\"\n",
        "\n",
        "  def andar(self, aumento_velocidad):\n",
        "    self.velocidad +=aumento_velocidad\n",
        "    return \"El perro va con la velodidad \" + str(self.velocidad)\n",
        "\n",
        "  def parar(self):\n",
        "    self.velocidad = 0\n",
        "    return \"El perro esta parado\"\n",
        "\n",
        "  def ladrar(self, comando):\n",
        "    return \"GUAU!\" + comando\n",
        "\n",
        "perro1 = Perro(\"Labrador\")\n",
        "print(perro1.raza)\n",
        "print(perro1.pelo)\n",
        "print(perro1.duenio)\n",
        "print(perro1.patas)\n",
        "perro1.andar(5)\n",
        "print(\"El perro va con la velodidad \", perro1.velocidad)\n",
        "perro1.parar()\n",
        "print(\"El perro va con la velodidad \", perro1.velocidad)\n",
        "perro1.andar(10)\n",
        "print(\"El perro va con la velodidad \", perro1.velocidad)\n"
      ]
    },
    {
      "cell_type": "code",
      "source": [],
      "metadata": {
        "id": "YF08RIvUmVxI"
      },
      "execution_count": null,
      "outputs": []
    }
  ],
  "metadata": {
    "kernelspec": {
      "display_name": "Python 3",
      "language": "python",
      "name": "python3"
    },
    "language_info": {
      "codemirror_mode": {
        "name": "ipython",
        "version": 3
      },
      "file_extension": ".py",
      "mimetype": "text/x-python",
      "name": "python",
      "nbconvert_exporter": "python",
      "pygments_lexer": "ipython3",
      "version": "3.7.9"
    },
    "colab": {
      "provenance": []
    }
  },
  "nbformat": 4,
  "nbformat_minor": 0
}